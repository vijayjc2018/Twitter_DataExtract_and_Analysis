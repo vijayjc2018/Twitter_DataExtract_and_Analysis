{
 "cells": [
  {
   "cell_type": "code",
   "execution_count": 11,
   "metadata": {},
   "outputs": [],
   "source": [
    "import numpy as np \n",
    "import pandas as pd \n",
    "import seaborn as sns \n",
    "import matplotlib.pyplot as plt \n",
    "from scipy.stats import norm "
   ]
  },
  {
   "cell_type": "code",
   "execution_count": 12,
   "metadata": {
    "scrolled": false
   },
   "outputs": [
    {
     "data": {
      "text/html": [
       "<div>\n",
       "<style scoped>\n",
       "    .dataframe tbody tr th:only-of-type {\n",
       "        vertical-align: middle;\n",
       "    }\n",
       "\n",
       "    .dataframe tbody tr th {\n",
       "        vertical-align: top;\n",
       "    }\n",
       "\n",
       "    .dataframe thead th {\n",
       "        text-align: right;\n",
       "    }\n",
       "</style>\n",
       "<table border=\"1\" class=\"dataframe\">\n",
       "  <thead>\n",
       "    <tr style=\"text-align: right;\">\n",
       "      <th></th>\n",
       "      <th>Unnamed: 0</th>\n",
       "      <th>id</th>\n",
       "      <th>id_str</th>\n",
       "      <th>in_reply_to_status_id</th>\n",
       "      <th>in_reply_to_status_id_str</th>\n",
       "      <th>in_reply_to_user_id</th>\n",
       "      <th>in_reply_to_user_id_str</th>\n",
       "      <th>geo</th>\n",
       "      <th>coordinates</th>\n",
       "      <th>contributors</th>\n",
       "      <th>retweet_count</th>\n",
       "      <th>favorite_count</th>\n",
       "      <th>quoted_status_id</th>\n",
       "      <th>quoted_status_id_str</th>\n",
       "    </tr>\n",
       "  </thead>\n",
       "  <tbody>\n",
       "    <tr>\n",
       "      <td>count</td>\n",
       "      <td>100.000000</td>\n",
       "      <td>1.000000e+02</td>\n",
       "      <td>1.000000e+02</td>\n",
       "      <td>3.000000e+00</td>\n",
       "      <td>3.000000e+00</td>\n",
       "      <td>4.000000e+00</td>\n",
       "      <td>4.000000e+00</td>\n",
       "      <td>0.0</td>\n",
       "      <td>0.0</td>\n",
       "      <td>0.0</td>\n",
       "      <td>100.00000</td>\n",
       "      <td>100.0</td>\n",
       "      <td>2.500000e+01</td>\n",
       "      <td>2.500000e+01</td>\n",
       "    </tr>\n",
       "    <tr>\n",
       "      <td>mean</td>\n",
       "      <td>49.500000</td>\n",
       "      <td>1.273778e+18</td>\n",
       "      <td>1.273778e+18</td>\n",
       "      <td>1.273717e+18</td>\n",
       "      <td>1.273717e+18</td>\n",
       "      <td>1.912875e+17</td>\n",
       "      <td>1.912875e+17</td>\n",
       "      <td>NaN</td>\n",
       "      <td>NaN</td>\n",
       "      <td>NaN</td>\n",
       "      <td>7235.62000</td>\n",
       "      <td>0.0</td>\n",
       "      <td>1.272797e+18</td>\n",
       "      <td>1.272797e+18</td>\n",
       "    </tr>\n",
       "    <tr>\n",
       "      <td>std</td>\n",
       "      <td>29.011492</td>\n",
       "      <td>5.052500e+09</td>\n",
       "      <td>5.052500e+09</td>\n",
       "      <td>6.302762e+13</td>\n",
       "      <td>6.302762e+13</td>\n",
       "      <td>3.825750e+17</td>\n",
       "      <td>3.825750e+17</td>\n",
       "      <td>NaN</td>\n",
       "      <td>NaN</td>\n",
       "      <td>NaN</td>\n",
       "      <td>14272.04457</td>\n",
       "      <td>0.0</td>\n",
       "      <td>2.969505e+15</td>\n",
       "      <td>2.969505e+15</td>\n",
       "    </tr>\n",
       "    <tr>\n",
       "      <td>min</td>\n",
       "      <td>0.000000</td>\n",
       "      <td>1.273778e+18</td>\n",
       "      <td>1.273778e+18</td>\n",
       "      <td>1.273647e+18</td>\n",
       "      <td>1.273647e+18</td>\n",
       "      <td>1.462636e+07</td>\n",
       "      <td>1.462636e+07</td>\n",
       "      <td>NaN</td>\n",
       "      <td>NaN</td>\n",
       "      <td>NaN</td>\n",
       "      <td>0.00000</td>\n",
       "      <td>0.0</td>\n",
       "      <td>1.262933e+18</td>\n",
       "      <td>1.262933e+18</td>\n",
       "    </tr>\n",
       "    <tr>\n",
       "      <td>25%</td>\n",
       "      <td>24.750000</td>\n",
       "      <td>1.273778e+18</td>\n",
       "      <td>1.273778e+18</td>\n",
       "      <td>1.273690e+18</td>\n",
       "      <td>1.273690e+18</td>\n",
       "      <td>2.168011e+07</td>\n",
       "      <td>2.168011e+07</td>\n",
       "      <td>NaN</td>\n",
       "      <td>NaN</td>\n",
       "      <td>NaN</td>\n",
       "      <td>1.75000</td>\n",
       "      <td>0.0</td>\n",
       "      <td>1.273648e+18</td>\n",
       "      <td>1.273648e+18</td>\n",
       "    </tr>\n",
       "    <tr>\n",
       "      <td>50%</td>\n",
       "      <td>49.500000</td>\n",
       "      <td>1.273778e+18</td>\n",
       "      <td>1.273778e+18</td>\n",
       "      <td>1.273733e+18</td>\n",
       "      <td>1.273733e+18</td>\n",
       "      <td>1.416995e+09</td>\n",
       "      <td>1.416995e+09</td>\n",
       "      <td>NaN</td>\n",
       "      <td>NaN</td>\n",
       "      <td>NaN</td>\n",
       "      <td>33.50000</td>\n",
       "      <td>0.0</td>\n",
       "      <td>1.273648e+18</td>\n",
       "      <td>1.273648e+18</td>\n",
       "    </tr>\n",
       "    <tr>\n",
       "      <td>75%</td>\n",
       "      <td>74.250000</td>\n",
       "      <td>1.273778e+18</td>\n",
       "      <td>1.273778e+18</td>\n",
       "      <td>1.273751e+18</td>\n",
       "      <td>1.273751e+18</td>\n",
       "      <td>1.912875e+17</td>\n",
       "      <td>1.912875e+17</td>\n",
       "      <td>NaN</td>\n",
       "      <td>NaN</td>\n",
       "      <td>NaN</td>\n",
       "      <td>1688.00000</td>\n",
       "      <td>0.0</td>\n",
       "      <td>1.273648e+18</td>\n",
       "      <td>1.273648e+18</td>\n",
       "    </tr>\n",
       "    <tr>\n",
       "      <td>max</td>\n",
       "      <td>99.000000</td>\n",
       "      <td>1.273778e+18</td>\n",
       "      <td>1.273778e+18</td>\n",
       "      <td>1.273770e+18</td>\n",
       "      <td>1.273770e+18</td>\n",
       "      <td>7.651500e+17</td>\n",
       "      <td>7.651500e+17</td>\n",
       "      <td>NaN</td>\n",
       "      <td>NaN</td>\n",
       "      <td>NaN</td>\n",
       "      <td>38248.00000</td>\n",
       "      <td>0.0</td>\n",
       "      <td>1.273764e+18</td>\n",
       "      <td>1.273764e+18</td>\n",
       "    </tr>\n",
       "  </tbody>\n",
       "</table>\n",
       "</div>"
      ],
      "text/plain": [
       "       Unnamed: 0            id        id_str  in_reply_to_status_id  \\\n",
       "count  100.000000  1.000000e+02  1.000000e+02           3.000000e+00   \n",
       "mean    49.500000  1.273778e+18  1.273778e+18           1.273717e+18   \n",
       "std     29.011492  5.052500e+09  5.052500e+09           6.302762e+13   \n",
       "min      0.000000  1.273778e+18  1.273778e+18           1.273647e+18   \n",
       "25%     24.750000  1.273778e+18  1.273778e+18           1.273690e+18   \n",
       "50%     49.500000  1.273778e+18  1.273778e+18           1.273733e+18   \n",
       "75%     74.250000  1.273778e+18  1.273778e+18           1.273751e+18   \n",
       "max     99.000000  1.273778e+18  1.273778e+18           1.273770e+18   \n",
       "\n",
       "       in_reply_to_status_id_str  in_reply_to_user_id  \\\n",
       "count               3.000000e+00         4.000000e+00   \n",
       "mean                1.273717e+18         1.912875e+17   \n",
       "std                 6.302762e+13         3.825750e+17   \n",
       "min                 1.273647e+18         1.462636e+07   \n",
       "25%                 1.273690e+18         2.168011e+07   \n",
       "50%                 1.273733e+18         1.416995e+09   \n",
       "75%                 1.273751e+18         1.912875e+17   \n",
       "max                 1.273770e+18         7.651500e+17   \n",
       "\n",
       "       in_reply_to_user_id_str  geo  coordinates  contributors  retweet_count  \\\n",
       "count             4.000000e+00  0.0          0.0           0.0      100.00000   \n",
       "mean              1.912875e+17  NaN          NaN           NaN     7235.62000   \n",
       "std               3.825750e+17  NaN          NaN           NaN    14272.04457   \n",
       "min               1.462636e+07  NaN          NaN           NaN        0.00000   \n",
       "25%               2.168011e+07  NaN          NaN           NaN        1.75000   \n",
       "50%               1.416995e+09  NaN          NaN           NaN       33.50000   \n",
       "75%               1.912875e+17  NaN          NaN           NaN     1688.00000   \n",
       "max               7.651500e+17  NaN          NaN           NaN    38248.00000   \n",
       "\n",
       "       favorite_count  quoted_status_id  quoted_status_id_str  \n",
       "count           100.0      2.500000e+01          2.500000e+01  \n",
       "mean              0.0      1.272797e+18          1.272797e+18  \n",
       "std               0.0      2.969505e+15          2.969505e+15  \n",
       "min               0.0      1.262933e+18          1.262933e+18  \n",
       "25%               0.0      1.273648e+18          1.273648e+18  \n",
       "50%               0.0      1.273648e+18          1.273648e+18  \n",
       "75%               0.0      1.273648e+18          1.273648e+18  \n",
       "max               0.0      1.273764e+18          1.273764e+18  "
      ]
     },
     "execution_count": 12,
     "metadata": {},
     "output_type": "execute_result"
    }
   ],
   "source": [
    "rawdata  = pd.read_csv(\"../COVID/Twitter_CovidData.csv\") \n",
    "rawdata.describe() "
   ]
  },
  {
   "cell_type": "code",
   "execution_count": 13,
   "metadata": {
    "scrolled": true
   },
   "outputs": [
    {
     "data": {
      "text/plain": [
       "Unnamed: 0                     int64\n",
       "created_at                    object\n",
       "id                             int64\n",
       "id_str                         int64\n",
       "text                          object\n",
       "truncated                       bool\n",
       "entities                      object\n",
       "metadata                      object\n",
       "source                        object\n",
       "in_reply_to_status_id        float64\n",
       "in_reply_to_status_id_str    float64\n",
       "in_reply_to_user_id          float64\n",
       "in_reply_to_user_id_str      float64\n",
       "in_reply_to_screen_name       object\n",
       "user                          object\n",
       "geo                          float64\n",
       "coordinates                  float64\n",
       "place                         object\n",
       "contributors                 float64\n",
       "retweeted_status              object\n",
       "is_quote_status                 bool\n",
       "retweet_count                  int64\n",
       "favorite_count                 int64\n",
       "favorited                       bool\n",
       "retweeted                       bool\n",
       "lang                          object\n",
       "quoted_status_id             float64\n",
       "quoted_status_id_str         float64\n",
       "possibly_sensitive            object\n",
       "quoted_status                 object\n",
       "extended_entities             object\n",
       "dtype: object"
      ]
     },
     "execution_count": 13,
     "metadata": {},
     "output_type": "execute_result"
    }
   ],
   "source": [
    "rawdata.dtypes"
   ]
  },
  {
   "cell_type": "code",
   "execution_count": 14,
   "metadata": {
    "scrolled": true
   },
   "outputs": [
    {
     "data": {
      "text/plain": [
       "in_reply_to_status_id         97\n",
       "in_reply_to_status_id_str     97\n",
       "in_reply_to_user_id           96\n",
       "in_reply_to_user_id_str       96\n",
       "in_reply_to_screen_name       96\n",
       "geo                          100\n",
       "coordinates                  100\n",
       "place                         98\n",
       "contributors                 100\n",
       "retweeted_status              22\n",
       "quoted_status_id              75\n",
       "quoted_status_id_str          75\n",
       "possibly_sensitive            77\n",
       "quoted_status                 97\n",
       "extended_entities             99\n",
       "dtype: int64"
      ]
     },
     "execution_count": 14,
     "metadata": {},
     "output_type": "execute_result"
    }
   ],
   "source": [
    "null_columns=rawdata.columns[rawdata.isnull().any()]\n",
    "rawdata[null_columns].isnull().sum()"
   ]
  },
  {
   "cell_type": "code",
   "execution_count": 15,
   "metadata": {},
   "outputs": [
    {
     "name": "stdout",
     "output_type": "stream",
     "text": [
      "Duplicate rows of processing dataset DataFrame:0  \n"
     ]
    }
   ],
   "source": [
    "processing_data = rawdata\n",
    "print(f\"Duplicate rows of processing dataset DataFrame:{processing_data.duplicated().sum()}  \")"
   ]
  },
  {
   "cell_type": "code",
   "execution_count": 16,
   "metadata": {},
   "outputs": [],
   "source": [
    "text_en = processing_data['text']"
   ]
  },
  {
   "cell_type": "code",
   "execution_count": 18,
   "metadata": {},
   "outputs": [],
   "source": [
    "# python imports\n",
    "import re\n",
    "import json\n",
    "import os\n",
    "from collections import Counter\n",
    "import datetime as dt\n"
   ]
  },
  {
   "cell_type": "markdown",
   "metadata": {},
   "source": [
    "Removing URLs from tweet"
   ]
  },
  {
   "cell_type": "code",
   "execution_count": 19,
   "metadata": {},
   "outputs": [
    {
     "data": {
      "text/plain": [
       "0    RT @sedric_andre: AMC Theaters doesn't \"Want t...\n",
       "1    Saí de casa hoje pela primeira vez desde o dia...\n",
       "2    RT @everywhereist: @chescaleigh I keep thinkin...\n",
       "3    RT @wewantMor_: did teachers &amp; nurses get ...\n",
       "4    RT @ifloresdiputado: Nos ha costado que el Gob...\n",
       "Name: text, dtype: object"
      ]
     },
     "execution_count": 19,
     "metadata": {},
     "output_type": "execute_result"
    }
   ],
   "source": [
    "text_en_lr = text_en.apply(lambda x: re.sub(r\"https\\S+\", \"\", str(x)))\n",
    "text_en_lr.head()"
   ]
  },
  {
   "cell_type": "markdown",
   "metadata": {},
   "source": [
    "Converting all tweets to lowercase"
   ]
  },
  {
   "cell_type": "code",
   "execution_count": 20,
   "metadata": {},
   "outputs": [
    {
     "data": {
      "text/plain": [
       "0    rt @sedric_andre: amc theaters doesn't \"want t...\n",
       "1    saí de casa hoje pela primeira vez desde o dia...\n",
       "2    rt @everywhereist: @chescaleigh i keep thinkin...\n",
       "3    rt @wewantmor_: did teachers &amp; nurses get ...\n",
       "4    rt @ifloresdiputado: nos ha costado que el gob...\n",
       "Name: text, dtype: object"
      ]
     },
     "execution_count": 20,
     "metadata": {},
     "output_type": "execute_result"
    }
   ],
   "source": [
    "text_en_lr_lc = text_en_lr.apply(lambda x: x.lower())\n",
    "text_en_lr_lc.head()"
   ]
  },
  {
   "cell_type": "markdown",
   "metadata": {},
   "source": [
    "Removing punctuations"
   ]
  },
  {
   "cell_type": "code",
   "execution_count": 22,
   "metadata": {},
   "outputs": [
    {
     "data": {
      "text/plain": [
       "0    rt sedricandre amc theaters doesnt want to be ...\n",
       "1    saí de casa hoje pela primeira vez desde o dia...\n",
       "2    rt everywhereist chescaleigh i keep thinking a...\n",
       "3    rt wewantmor did teachers amp nurses get a bon...\n",
       "4    rt ifloresdiputado nos ha costado que el gobie...\n",
       "Name: text, dtype: object"
      ]
     },
     "execution_count": 22,
     "metadata": {},
     "output_type": "execute_result"
    }
   ],
   "source": [
    "import string\n",
    "text_en_lr_lc_pr = text_en_lr_lc.apply(lambda x: x.translate(str.maketrans('', '', string.punctuation)))\n",
    "text_en_lr_lc_pr.head()"
   ]
  },
  {
   "cell_type": "markdown",
   "metadata": {},
   "source": [
    "Removing stopwords"
   ]
  },
  {
   "cell_type": "code",
   "execution_count": 24,
   "metadata": {},
   "outputs": [],
   "source": [
    "import nltk\n",
    "from nltk.tokenize import sent_tokenize\n",
    "from nltk.corpus import words\n",
    "from nltk.corpus import stopwords\n",
    "from nltk.tokenize import word_tokenize\n",
    "from nltk.stem import WordNetLemmatizer\n",
    "from nltk.stem import PorterStemmer\n",
    "from nltk.sentiment.vader import SentimentIntensityAnalyzer\n",
    "from nltk.sentiment.util import *"
   ]
  },
  {
   "cell_type": "code",
   "execution_count": 25,
   "metadata": {},
   "outputs": [
    {
     "data": {
      "text/plain": [
       "0    rt sedricandre amc theaters doesnt want drawn ...\n",
       "1    saí de casa hoje pela primeira vez desde dia 1...\n",
       "2    rt everywhereist chescaleigh keep thinking kee...\n",
       "3    rt wewantmor teachers nurses get bonus thanks ...\n",
       "4    rt ifloresdiputado nos ha costado que el gobie...\n",
       "Name: text, dtype: object"
      ]
     },
     "execution_count": 25,
     "metadata": {},
     "output_type": "execute_result"
    }
   ],
   "source": [
    "stop_words = set(stopwords.words('english'))\n",
    "stop_words.update(['#coronavirus', '#coronavirusoutbreak', '#coronavirusPandemic', '#covid19', '#covid_19', '#epitwitter', '#ihavecorona', 'amp', 'coronavirus', 'covid19'])\n",
    "\n",
    "text_en_lr_lc_pr_sr = text_en_lr_lc_pr.apply(lambda x: ' '.join([word for word in x.split() if word not in stop_words]))\n",
    "text_en_lr_lc_pr_sr.head()"
   ]
  },
  {
   "cell_type": "markdown",
   "metadata": {},
   "source": [
    "Concatenating all the tweets into a list of words"
   ]
  },
  {
   "cell_type": "code",
   "execution_count": 26,
   "metadata": {},
   "outputs": [
    {
     "data": {
      "text/plain": [
       "['rt', 'sedricandre', 'amc', 'theaters', 'doesnt']"
      ]
     },
     "execution_count": 26,
     "metadata": {},
     "output_type": "execute_result"
    }
   ],
   "source": [
    "word_list = [word for line in text_en_lr_lc_pr_sr for word in line.split()]\n",
    "word_list[:5]"
   ]
  },
  {
   "cell_type": "markdown",
   "metadata": {},
   "source": [
    "Calculating the Term Frequency"
   ]
  },
  {
   "cell_type": "code",
   "execution_count": 27,
   "metadata": {
    "scrolled": true
   },
   "outputs": [
    {
     "data": {
      "image/png": "[encoded data removed]",
      "text/plain": [
       "<Figure size 864x864 with 1 Axes>"
      ]
     },
     "metadata": {},
     "output_type": "display_data"
    }
   ],
   "source": [
    "sns.set(style=\"darkgrid\")\n",
    "counts = Counter(word_list).most_common(50)\n",
    "counts_df = pd.DataFrame(counts)\n",
    "counts_df\n",
    "counts_df.columns = ['word', 'frequency']\n",
    "\n",
    "fig, ax = plt.subplots(figsize = (12, 12))\n",
    "ax = sns.barplot(y=\"word\", x='frequency', ax = ax, data=counts_df)\n",
    "plt.savefig('wordcount_bar.png')"
   ]
  },
  {
   "cell_type": "code",
   "execution_count": 29,
   "metadata": {},
   "outputs": [],
   "source": [
    "# Visualization\n",
    "from matplotlib import pyplot as plt\n",
    "from matplotlib import ticker\n",
    "import seaborn as sns\n",
    "from sklearn import feature_extraction, linear_model, model_selection, preprocessing\n",
    "from wordcloud import WordCloud\n",
    "from tqdm import tqdm_notebook"
   ]
  },
  {
   "cell_type": "code",
   "execution_count": 30,
   "metadata": {},
   "outputs": [
    {
     "data": {
      "image/png": "[encoded data removed]",
      "text/plain": [
       "<Figure size 864x720 with 1 Axes>"
      ]
     },
     "metadata": {},
     "output_type": "display_data"
    }
   ],
   "source": [
    "wordcloud = WordCloud(\n",
    "    background_color='black',\n",
    "    max_words=50,\n",
    "    max_font_size=40, \n",
    "    scale=5,\n",
    "    random_state=1,\n",
    "    collocations=False,\n",
    "    normalize_plurals=False\n",
    ").generate(' '.join(word_list))\n",
    "\n",
    "\n",
    "plt.figure(figsize = (12, 10), facecolor = None)\n",
    "plt.imshow(wordcloud)\n",
    "plt.axis(\"off\")\n",
    "plt.tight_layout(pad = 0)\n",
    "\n",
    "plt.savefig('wordcloud.png')"
   ]
  },
  {
   "cell_type": "markdown",
   "metadata": {},
   "source": [
    "Sentiment Analysis\n",
    "Getting the polarity scores for each tweet"
   ]
  },
  {
   "cell_type": "code",
   "execution_count": 31,
   "metadata": {},
   "outputs": [
    {
     "data": {
      "text/html": [
       "<div>\n",
       "<style scoped>\n",
       "    .dataframe tbody tr th:only-of-type {\n",
       "        vertical-align: middle;\n",
       "    }\n",
       "\n",
       "    .dataframe tbody tr th {\n",
       "        vertical-align: top;\n",
       "    }\n",
       "\n",
       "    .dataframe thead th {\n",
       "        text-align: right;\n",
       "    }\n",
       "</style>\n",
       "<table border=\"1\" class=\"dataframe\">\n",
       "  <thead>\n",
       "    <tr style=\"text-align: right;\">\n",
       "      <th></th>\n",
       "      <th>neg</th>\n",
       "      <th>neu</th>\n",
       "      <th>pos</th>\n",
       "      <th>compound</th>\n",
       "    </tr>\n",
       "  </thead>\n",
       "  <tbody>\n",
       "    <tr>\n",
       "      <td>95</td>\n",
       "      <td>0.0</td>\n",
       "      <td>1.000</td>\n",
       "      <td>0.000</td>\n",
       "      <td>0.0000</td>\n",
       "    </tr>\n",
       "    <tr>\n",
       "      <td>96</td>\n",
       "      <td>0.0</td>\n",
       "      <td>0.714</td>\n",
       "      <td>0.286</td>\n",
       "      <td>0.6369</td>\n",
       "    </tr>\n",
       "    <tr>\n",
       "      <td>97</td>\n",
       "      <td>0.0</td>\n",
       "      <td>1.000</td>\n",
       "      <td>0.000</td>\n",
       "      <td>0.0000</td>\n",
       "    </tr>\n",
       "    <tr>\n",
       "      <td>98</td>\n",
       "      <td>0.0</td>\n",
       "      <td>0.714</td>\n",
       "      <td>0.286</td>\n",
       "      <td>0.4215</td>\n",
       "    </tr>\n",
       "    <tr>\n",
       "      <td>99</td>\n",
       "      <td>0.0</td>\n",
       "      <td>1.000</td>\n",
       "      <td>0.000</td>\n",
       "      <td>0.0000</td>\n",
       "    </tr>\n",
       "  </tbody>\n",
       "</table>\n",
       "</div>"
      ],
      "text/plain": [
       "    neg    neu    pos  compound\n",
       "95  0.0  1.000  0.000    0.0000\n",
       "96  0.0  0.714  0.286    0.6369\n",
       "97  0.0  1.000  0.000    0.0000\n",
       "98  0.0  0.714  0.286    0.4215\n",
       "99  0.0  1.000  0.000    0.0000"
      ]
     },
     "execution_count": 31,
     "metadata": {},
     "output_type": "execute_result"
    }
   ],
   "source": [
    "sid = SentimentIntensityAnalyzer()\n",
    "sentiment_scores = text_en_lr_lc_pr_sr.apply(lambda x: sid.polarity_scores(x))\n",
    "sent_scores_df = pd.DataFrame(list(sentiment_scores))\n",
    "sent_scores_df.tail()"
   ]
  },
  {
   "cell_type": "markdown",
   "metadata": {},
   "source": [
    "Classifying the scores based on the compount polarity value"
   ]
  },
  {
   "cell_type": "code",
   "execution_count": 32,
   "metadata": {},
   "outputs": [
    {
     "data": {
      "text/html": [
       "<div>\n",
       "<style scoped>\n",
       "    .dataframe tbody tr th:only-of-type {\n",
       "        vertical-align: middle;\n",
       "    }\n",
       "\n",
       "    .dataframe tbody tr th {\n",
       "        vertical-align: top;\n",
       "    }\n",
       "\n",
       "    .dataframe thead th {\n",
       "        text-align: right;\n",
       "    }\n",
       "</style>\n",
       "<table border=\"1\" class=\"dataframe\">\n",
       "  <thead>\n",
       "    <tr style=\"text-align: right;\">\n",
       "      <th></th>\n",
       "      <th>neg</th>\n",
       "      <th>neu</th>\n",
       "      <th>pos</th>\n",
       "      <th>compound</th>\n",
       "      <th>val</th>\n",
       "    </tr>\n",
       "  </thead>\n",
       "  <tbody>\n",
       "    <tr>\n",
       "      <td>0</td>\n",
       "      <td>0.100</td>\n",
       "      <td>0.900</td>\n",
       "      <td>0.000</td>\n",
       "      <td>-0.0572</td>\n",
       "      <td>negative</td>\n",
       "    </tr>\n",
       "    <tr>\n",
       "      <td>1</td>\n",
       "      <td>0.000</td>\n",
       "      <td>1.000</td>\n",
       "      <td>0.000</td>\n",
       "      <td>0.0000</td>\n",
       "      <td>neutral</td>\n",
       "    </tr>\n",
       "    <tr>\n",
       "      <td>2</td>\n",
       "      <td>0.197</td>\n",
       "      <td>0.803</td>\n",
       "      <td>0.000</td>\n",
       "      <td>-0.4019</td>\n",
       "      <td>negative</td>\n",
       "    </tr>\n",
       "    <tr>\n",
       "      <td>3</td>\n",
       "      <td>0.095</td>\n",
       "      <td>0.473</td>\n",
       "      <td>0.432</td>\n",
       "      <td>0.7184</td>\n",
       "      <td>positive</td>\n",
       "    </tr>\n",
       "    <tr>\n",
       "      <td>4</td>\n",
       "      <td>0.000</td>\n",
       "      <td>0.906</td>\n",
       "      <td>0.094</td>\n",
       "      <td>0.3400</td>\n",
       "      <td>positive</td>\n",
       "    </tr>\n",
       "  </tbody>\n",
       "</table>\n",
       "</div>"
      ],
      "text/plain": [
       "     neg    neu    pos  compound       val\n",
       "0  0.100  0.900  0.000   -0.0572  negative\n",
       "1  0.000  1.000  0.000    0.0000   neutral\n",
       "2  0.197  0.803  0.000   -0.4019  negative\n",
       "3  0.095  0.473  0.432    0.7184  positive\n",
       "4  0.000  0.906  0.094    0.3400  positive"
      ]
     },
     "execution_count": 32,
     "metadata": {},
     "output_type": "execute_result"
    }
   ],
   "source": [
    "sent_scores_df['val'] = sent_scores_df['compound'].apply(lambda x: 'neutral' if x == 0 else ('positive' if x > 0 else 'negative'))\n",
    "sent_scores_df.head()"
   ]
  },
  {
   "cell_type": "markdown",
   "metadata": {},
   "source": [
    "Plotting the sentiment score counts"
   ]
  },
  {
   "cell_type": "code",
   "execution_count": 33,
   "metadata": {},
   "outputs": [
    {
     "data": {
      "image/png": "[encoded data removed]",
      "text/plain": [
       "<Figure size 432x288 with 1 Axes>"
      ]
     },
     "metadata": {},
     "output_type": "display_data"
    }
   ],
   "source": [
    "sent_counts = pd.DataFrame.from_dict(Counter(sent_scores_df['val']), orient = 'index').reset_index()\n",
    "sent_counts.columns = ['sentiment', 'count']\n",
    "\n",
    "sns.barplot(y=\"count\", x='sentiment', data=sent_counts)\n",
    "plt.savefig('sentiment.png')"
   ]
  },
  {
   "cell_type": "code",
   "execution_count": null,
   "metadata": {},
   "outputs": [],
   "source": []
  }
 ],
 "metadata": {
  "kernelspec": {
   "display_name": "Python 3",
   "language": "python",
   "name": "python3"
  },
  "language_info": {
   "codemirror_mode": {
    "name": "ipython",
    "version": 3
   },
   "file_extension": ".py",
   "mimetype": "text/x-python",
   "name": "python",
   "nbconvert_exporter": "python",
   "pygments_lexer": "ipython3",
   "version": "3.7.4"
  }
 },
 "nbformat": 4,
 "nbformat_minor": 2
}
